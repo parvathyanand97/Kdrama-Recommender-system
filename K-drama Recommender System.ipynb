{
 "cells": [
  {
   "cell_type": "code",
   "execution_count": 1,
   "id": "c87be9fd",
   "metadata": {},
   "outputs": [],
   "source": [
    "import numpy as np # linear algebra\n",
    "import pandas as pd # data processing\n",
    "import os #for I/O processing\n",
    "import seaborn as sns #for visualization\n",
    "from matplotlib import pyplot as plt #for visualization"
   ]
  },
  {
   "cell_type": "code",
   "execution_count": 2,
   "id": "097690f1",
   "metadata": {},
   "outputs": [],
   "source": [
    "#for enumerating file we have\n",
    "for dirname, _, filenames in os.walk('/kaggle/input'):\n",
    "    for filename in filenames:\n",
    "        print(os.path.join(dirname, filename))"
   ]
  },
  {
   "cell_type": "code",
   "execution_count": 3,
   "id": "103494f2",
   "metadata": {},
   "outputs": [],
   "source": [
    "\n",
    "df_actors=pd.read_csv('actors.csv')\n",
    "df_genres=pd.read_csv('genres.csv')\n",
    "df_tags=pd.read_csv('tags.csv')\n",
    "df_raw=pd.read_csv('kdramalist.csv')"
   ]
  },
  {
   "cell_type": "code",
   "execution_count": 4,
   "id": "b0b81230",
   "metadata": {},
   "outputs": [
    {
     "data": {
      "text/html": [
       "<div>\n",
       "<style scoped>\n",
       "    .dataframe tbody tr th:only-of-type {\n",
       "        vertical-align: middle;\n",
       "    }\n",
       "\n",
       "    .dataframe tbody tr th {\n",
       "        vertical-align: top;\n",
       "    }\n",
       "\n",
       "    .dataframe thead th {\n",
       "        text-align: right;\n",
       "    }\n",
       "</style>\n",
       "<table border=\"1\" class=\"dataframe\">\n",
       "  <thead>\n",
       "    <tr style=\"text-align: right;\">\n",
       "      <th></th>\n",
       "      <th>drama_name</th>\n",
       "      <th>Genres</th>\n",
       "      <th>Tags</th>\n",
       "      <th>Episodes</th>\n",
       "      <th>start airing</th>\n",
       "      <th>end airing</th>\n",
       "      <th>Aired On</th>\n",
       "      <th>Original Network</th>\n",
       "      <th>Duration</th>\n",
       "      <th>score</th>\n",
       "      <th>scored by</th>\n",
       "      <th>Ranked</th>\n",
       "      <th>Popularity</th>\n",
       "      <th>Content Rating</th>\n",
       "      <th>Watchers</th>\n",
       "      <th>actors</th>\n",
       "      <th>platforms</th>\n",
       "      <th>imdb_rating</th>\n",
       "      <th>imdb_user_count</th>\n",
       "      <th>imdb_description</th>\n",
       "    </tr>\n",
       "  </thead>\n",
       "  <tbody>\n",
       "    <tr>\n",
       "      <th>0</th>\n",
       "      <td>100 Days My Prince</td>\n",
       "      <td>historical, comedy, romance, drama</td>\n",
       "      <td>amnesia, hidden identity, marriage of convenie...</td>\n",
       "      <td>16</td>\n",
       "      <td>10-Sep-18</td>\n",
       "      <td>30-Oct-18</td>\n",
       "      <td>tuesday, monday</td>\n",
       "      <td>tvN</td>\n",
       "      <td>75.0</td>\n",
       "      <td>8.3</td>\n",
       "      <td>21274.0</td>\n",
       "      <td>554</td>\n",
       "      <td>136</td>\n",
       "      <td>15+ - Teens 15 or older</td>\n",
       "      <td>45,852</td>\n",
       "      <td>Doh Kyung Soo, Nam Ji Hyun, Kim Seon Ho, Han S...</td>\n",
       "      <td>WeTV, Netflix, K-DRAMA, Apple TV, Viki</td>\n",
       "      <td>7.7</td>\n",
       "      <td>2,188</td>\n",
       "      <td>Upon losing his memory, a crown prince encount...</td>\n",
       "    </tr>\n",
       "    <tr>\n",
       "      <th>1</th>\n",
       "      <td>12 Signs of Love</td>\n",
       "      <td>comedy, romance, life</td>\n",
       "      <td>writer female lead</td>\n",
       "      <td>16</td>\n",
       "      <td>15-Feb-12</td>\n",
       "      <td>5-Apr-12</td>\n",
       "      <td>wednesday, thursday</td>\n",
       "      <td>tvN</td>\n",
       "      <td>65.0</td>\n",
       "      <td>7.1</td>\n",
       "      <td>893.0</td>\n",
       "      <td>5506</td>\n",
       "      <td>3327</td>\n",
       "      <td>Not Yet Rated</td>\n",
       "      <td>2,543</td>\n",
       "      <td>Ohn Joo Wan, Yoon Jin Seo, Lee Yong Woo, Bae G...</td>\n",
       "      <td>NaN</td>\n",
       "      <td>NaN</td>\n",
       "      <td>NaN</td>\n",
       "      <td>NaN</td>\n",
       "    </tr>\n",
       "    <tr>\n",
       "      <th>2</th>\n",
       "      <td>12 Years Promise</td>\n",
       "      <td>food, romance, drama, family</td>\n",
       "      <td>unexpected pregnancy, miscarriage, teenage pre...</td>\n",
       "      <td>26</td>\n",
       "      <td>22-Mar-14</td>\n",
       "      <td>29-Jun-14</td>\n",
       "      <td>saturday, sunday</td>\n",
       "      <td>jTBC</td>\n",
       "      <td>70.0</td>\n",
       "      <td>7.2</td>\n",
       "      <td>2716.0</td>\n",
       "      <td>5395</td>\n",
       "      <td>1783</td>\n",
       "      <td>15+ - Teens 15 or older</td>\n",
       "      <td>5,435</td>\n",
       "      <td>Lee So Yeon, Namkoong Min, Lee Tae Im, Park Ha...</td>\n",
       "      <td>Viki</td>\n",
       "      <td>7.3</td>\n",
       "      <td>181</td>\n",
       "      <td>A pregnant teen is forced by her family to lea...</td>\n",
       "    </tr>\n",
       "    <tr>\n",
       "      <th>3</th>\n",
       "      <td>18 Again</td>\n",
       "      <td>romance, life, drama, fantasy</td>\n",
       "      <td>second chance, first love, father-son relation...</td>\n",
       "      <td>16</td>\n",
       "      <td>21-Sep-20</td>\n",
       "      <td>10-Nov-20</td>\n",
       "      <td>monday, tuesday</td>\n",
       "      <td>jTBC</td>\n",
       "      <td>70.0</td>\n",
       "      <td>8.7</td>\n",
       "      <td>21409.0</td>\n",
       "      <td>105</td>\n",
       "      <td>125</td>\n",
       "      <td>15+ - Teens 15 or older</td>\n",
       "      <td>47,527</td>\n",
       "      <td>Kim Ha Neul, Yoon Sang Hyun, Lee Do Hyun, Roh ...</td>\n",
       "      <td>WeTV</td>\n",
       "      <td>8.2</td>\n",
       "      <td>1,847</td>\n",
       "      <td>A 37-year-old man on the verge of being divorc...</td>\n",
       "    </tr>\n",
       "    <tr>\n",
       "      <th>4</th>\n",
       "      <td>365: Repeat the Year</td>\n",
       "      <td>thriller, mystery, drama, fantasy</td>\n",
       "      <td>strong female lead, time travel, nice male lea...</td>\n",
       "      <td>24</td>\n",
       "      <td>23-Mar-20</td>\n",
       "      <td>28-Apr-20</td>\n",
       "      <td>monday, tuesday</td>\n",
       "      <td>MBC</td>\n",
       "      <td>35.0</td>\n",
       "      <td>8.6</td>\n",
       "      <td>7598.0</td>\n",
       "      <td>250</td>\n",
       "      <td>438</td>\n",
       "      <td>15+ - Teens 15 or older</td>\n",
       "      <td>20,963</td>\n",
       "      <td>Lee Joon Hyuk, Nam Ji Hyun, Kim Jee Soo, Lee S...</td>\n",
       "      <td>Viki</td>\n",
       "      <td>8.0</td>\n",
       "      <td>656</td>\n",
       "      <td>A story where ten people get the chance to go ...</td>\n",
       "    </tr>\n",
       "  </tbody>\n",
       "</table>\n",
       "</div>"
      ],
      "text/plain": [
       "             drama_name                              Genres  \\\n",
       "0    100 Days My Prince  historical, comedy, romance, drama   \n",
       "1      12 Signs of Love               comedy, romance, life   \n",
       "2      12 Years Promise        food, romance, drama, family   \n",
       "3              18 Again       romance, life, drama, fantasy   \n",
       "4  365: Repeat the Year   thriller, mystery, drama, fantasy   \n",
       "\n",
       "                                                Tags  Episodes start airing  \\\n",
       "0  amnesia, hidden identity, marriage of convenie...        16    10-Sep-18   \n",
       "1                                writer female lead         16    15-Feb-12   \n",
       "2  unexpected pregnancy, miscarriage, teenage pre...        26    22-Mar-14   \n",
       "3  second chance, first love, father-son relation...        16    21-Sep-20   \n",
       "4  strong female lead, time travel, nice male lea...        24    23-Mar-20   \n",
       "\n",
       "  end airing             Aired On Original Network  Duration  score  \\\n",
       "0  30-Oct-18      tuesday, monday              tvN      75.0    8.3   \n",
       "1   5-Apr-12  wednesday, thursday              tvN      65.0    7.1   \n",
       "2  29-Jun-14     saturday, sunday             jTBC      70.0    7.2   \n",
       "3  10-Nov-20      monday, tuesday             jTBC      70.0    8.7   \n",
       "4  28-Apr-20      monday, tuesday              MBC      35.0    8.6   \n",
       "\n",
       "   scored by  Ranked  Popularity           Content Rating Watchers  \\\n",
       "0    21274.0     554         136  15+ - Teens 15 or older   45,852   \n",
       "1      893.0    5506        3327            Not Yet Rated    2,543   \n",
       "2     2716.0    5395        1783  15+ - Teens 15 or older    5,435   \n",
       "3    21409.0     105         125  15+ - Teens 15 or older   47,527   \n",
       "4     7598.0     250         438  15+ - Teens 15 or older   20,963   \n",
       "\n",
       "                                              actors  \\\n",
       "0  Doh Kyung Soo, Nam Ji Hyun, Kim Seon Ho, Han S...   \n",
       "1  Ohn Joo Wan, Yoon Jin Seo, Lee Yong Woo, Bae G...   \n",
       "2  Lee So Yeon, Namkoong Min, Lee Tae Im, Park Ha...   \n",
       "3  Kim Ha Neul, Yoon Sang Hyun, Lee Do Hyun, Roh ...   \n",
       "4  Lee Joon Hyuk, Nam Ji Hyun, Kim Jee Soo, Lee S...   \n",
       "\n",
       "                                platforms  imdb_rating imdb_user_count  \\\n",
       "0  WeTV, Netflix, K-DRAMA, Apple TV, Viki          7.7           2,188   \n",
       "1                                     NaN          NaN             NaN   \n",
       "2                                    Viki          7.3             181   \n",
       "3                                    WeTV          8.2           1,847   \n",
       "4                                    Viki          8.0             656   \n",
       "\n",
       "                                    imdb_description  \n",
       "0  Upon losing his memory, a crown prince encount...  \n",
       "1                                                NaN  \n",
       "2  A pregnant teen is forced by her family to lea...  \n",
       "3  A 37-year-old man on the verge of being divorc...  \n",
       "4  A story where ten people get the chance to go ...  "
      ]
     },
     "execution_count": 4,
     "metadata": {},
     "output_type": "execute_result"
    }
   ],
   "source": [
    "df_raw.head()"
   ]
  },
  {
   "cell_type": "code",
   "execution_count": 5,
   "id": "15fafb50",
   "metadata": {},
   "outputs": [],
   "source": [
    "df_dramas = df_raw [['drama_name','Genres','Tags','actors']]"
   ]
  },
  {
   "cell_type": "code",
   "execution_count": 6,
   "id": "43a01ecc",
   "metadata": {},
   "outputs": [
    {
     "data": {
      "text/html": [
       "<div>\n",
       "<style scoped>\n",
       "    .dataframe tbody tr th:only-of-type {\n",
       "        vertical-align: middle;\n",
       "    }\n",
       "\n",
       "    .dataframe tbody tr th {\n",
       "        vertical-align: top;\n",
       "    }\n",
       "\n",
       "    .dataframe thead th {\n",
       "        text-align: right;\n",
       "    }\n",
       "</style>\n",
       "<table border=\"1\" class=\"dataframe\">\n",
       "  <thead>\n",
       "    <tr style=\"text-align: right;\">\n",
       "      <th></th>\n",
       "      <th>drama_name</th>\n",
       "      <th>Genres</th>\n",
       "      <th>Tags</th>\n",
       "      <th>actors</th>\n",
       "    </tr>\n",
       "  </thead>\n",
       "  <tbody>\n",
       "    <tr>\n",
       "      <th>0</th>\n",
       "      <td>100 Days My Prince</td>\n",
       "      <td>historical, comedy, romance, drama</td>\n",
       "      <td>amnesia, hidden identity, marriage of convenie...</td>\n",
       "      <td>Doh Kyung Soo, Nam Ji Hyun, Kim Seon Ho, Han S...</td>\n",
       "    </tr>\n",
       "    <tr>\n",
       "      <th>1</th>\n",
       "      <td>12 Signs of Love</td>\n",
       "      <td>comedy, romance, life</td>\n",
       "      <td>writer female lead</td>\n",
       "      <td>Ohn Joo Wan, Yoon Jin Seo, Lee Yong Woo, Bae G...</td>\n",
       "    </tr>\n",
       "    <tr>\n",
       "      <th>2</th>\n",
       "      <td>12 Years Promise</td>\n",
       "      <td>food, romance, drama, family</td>\n",
       "      <td>unexpected pregnancy, miscarriage, teenage pre...</td>\n",
       "      <td>Lee So Yeon, Namkoong Min, Lee Tae Im, Park Ha...</td>\n",
       "    </tr>\n",
       "    <tr>\n",
       "      <th>3</th>\n",
       "      <td>18 Again</td>\n",
       "      <td>romance, life, drama, fantasy</td>\n",
       "      <td>second chance, first love, father-son relation...</td>\n",
       "      <td>Kim Ha Neul, Yoon Sang Hyun, Lee Do Hyun, Roh ...</td>\n",
       "    </tr>\n",
       "    <tr>\n",
       "      <th>4</th>\n",
       "      <td>365: Repeat the Year</td>\n",
       "      <td>thriller, mystery, drama, fantasy</td>\n",
       "      <td>strong female lead, time travel, nice male lea...</td>\n",
       "      <td>Lee Joon Hyuk, Nam Ji Hyun, Kim Jee Soo, Lee S...</td>\n",
       "    </tr>\n",
       "  </tbody>\n",
       "</table>\n",
       "</div>"
      ],
      "text/plain": [
       "             drama_name                              Genres  \\\n",
       "0    100 Days My Prince  historical, comedy, romance, drama   \n",
       "1      12 Signs of Love               comedy, romance, life   \n",
       "2      12 Years Promise        food, romance, drama, family   \n",
       "3              18 Again       romance, life, drama, fantasy   \n",
       "4  365: Repeat the Year   thriller, mystery, drama, fantasy   \n",
       "\n",
       "                                                Tags  \\\n",
       "0  amnesia, hidden identity, marriage of convenie...   \n",
       "1                                writer female lead    \n",
       "2  unexpected pregnancy, miscarriage, teenage pre...   \n",
       "3  second chance, first love, father-son relation...   \n",
       "4  strong female lead, time travel, nice male lea...   \n",
       "\n",
       "                                              actors  \n",
       "0  Doh Kyung Soo, Nam Ji Hyun, Kim Seon Ho, Han S...  \n",
       "1  Ohn Joo Wan, Yoon Jin Seo, Lee Yong Woo, Bae G...  \n",
       "2  Lee So Yeon, Namkoong Min, Lee Tae Im, Park Ha...  \n",
       "3  Kim Ha Neul, Yoon Sang Hyun, Lee Do Hyun, Roh ...  \n",
       "4  Lee Joon Hyuk, Nam Ji Hyun, Kim Jee Soo, Lee S...  "
      ]
     },
     "execution_count": 6,
     "metadata": {},
     "output_type": "execute_result"
    }
   ],
   "source": [
    "df_dramas.head()"
   ]
  },
  {
   "cell_type": "code",
   "execution_count": 7,
   "id": "aee9daa7",
   "metadata": {
    "scrolled": true
   },
   "outputs": [
    {
     "data": {
      "text/plain": [
       "drama_name     0\n",
       "Genres         1\n",
       "Tags          85\n",
       "actors         2\n",
       "dtype: int64"
      ]
     },
     "execution_count": 7,
     "metadata": {},
     "output_type": "execute_result"
    }
   ],
   "source": [
    "df_dramas.isnull().sum()"
   ]
  },
  {
   "cell_type": "code",
   "execution_count": 8,
   "id": "fd37125d",
   "metadata": {},
   "outputs": [
    {
     "name": "stderr",
     "output_type": "stream",
     "text": [
      "/var/folders/9q/fxzjhxq16m361_m_hxykq5xc0000gn/T/ipykernel_87044/4254998439.py:1: SettingWithCopyWarning: \n",
      "A value is trying to be set on a copy of a slice from a DataFrame\n",
      "\n",
      "See the caveats in the documentation: https://pandas.pydata.org/pandas-docs/stable/user_guide/indexing.html#returning-a-view-versus-a-copy\n",
      "  df_dramas.dropna(inplace=True)\n"
     ]
    }
   ],
   "source": [
    "df_dramas.dropna(inplace=True)"
   ]
  },
  {
   "cell_type": "code",
   "execution_count": 9,
   "id": "bac9a205",
   "metadata": {},
   "outputs": [],
   "source": [
    "def string_to_list(input_string):\n",
    "    word_list = input_string.split(',')\n",
    "    cleaned_list = [word.strip() for word in word_list]\n",
    "    return cleaned_list"
   ]
  },
  {
   "cell_type": "code",
   "execution_count": 10,
   "id": "b845ade0",
   "metadata": {},
   "outputs": [
    {
     "name": "stderr",
     "output_type": "stream",
     "text": [
      "/var/folders/9q/fxzjhxq16m361_m_hxykq5xc0000gn/T/ipykernel_87044/2325805395.py:1: SettingWithCopyWarning: \n",
      "A value is trying to be set on a copy of a slice from a DataFrame.\n",
      "Try using .loc[row_indexer,col_indexer] = value instead\n",
      "\n",
      "See the caveats in the documentation: https://pandas.pydata.org/pandas-docs/stable/user_guide/indexing.html#returning-a-view-versus-a-copy\n",
      "  df_dramas['Genres'] = df_dramas['Genres'].apply(string_to_list)\n"
     ]
    }
   ],
   "source": [
    "df_dramas['Genres'] = df_dramas['Genres'].apply(string_to_list)"
   ]
  },
  {
   "cell_type": "code",
   "execution_count": 11,
   "id": "b0350b91",
   "metadata": {},
   "outputs": [
    {
     "data": {
      "text/html": [
       "<div>\n",
       "<style scoped>\n",
       "    .dataframe tbody tr th:only-of-type {\n",
       "        vertical-align: middle;\n",
       "    }\n",
       "\n",
       "    .dataframe tbody tr th {\n",
       "        vertical-align: top;\n",
       "    }\n",
       "\n",
       "    .dataframe thead th {\n",
       "        text-align: right;\n",
       "    }\n",
       "</style>\n",
       "<table border=\"1\" class=\"dataframe\">\n",
       "  <thead>\n",
       "    <tr style=\"text-align: right;\">\n",
       "      <th></th>\n",
       "      <th>drama_name</th>\n",
       "      <th>Genres</th>\n",
       "      <th>Tags</th>\n",
       "      <th>actors</th>\n",
       "    </tr>\n",
       "  </thead>\n",
       "  <tbody>\n",
       "    <tr>\n",
       "      <th>0</th>\n",
       "      <td>100 Days My Prince</td>\n",
       "      <td>[historical, comedy, romance, drama]</td>\n",
       "      <td>amnesia, hidden identity, marriage of convenie...</td>\n",
       "      <td>Doh Kyung Soo, Nam Ji Hyun, Kim Seon Ho, Han S...</td>\n",
       "    </tr>\n",
       "    <tr>\n",
       "      <th>1</th>\n",
       "      <td>12 Signs of Love</td>\n",
       "      <td>[comedy, romance, life]</td>\n",
       "      <td>writer female lead</td>\n",
       "      <td>Ohn Joo Wan, Yoon Jin Seo, Lee Yong Woo, Bae G...</td>\n",
       "    </tr>\n",
       "    <tr>\n",
       "      <th>2</th>\n",
       "      <td>12 Years Promise</td>\n",
       "      <td>[food, romance, drama, family]</td>\n",
       "      <td>unexpected pregnancy, miscarriage, teenage pre...</td>\n",
       "      <td>Lee So Yeon, Namkoong Min, Lee Tae Im, Park Ha...</td>\n",
       "    </tr>\n",
       "    <tr>\n",
       "      <th>3</th>\n",
       "      <td>18 Again</td>\n",
       "      <td>[romance, life, drama, fantasy]</td>\n",
       "      <td>second chance, first love, father-son relation...</td>\n",
       "      <td>Kim Ha Neul, Yoon Sang Hyun, Lee Do Hyun, Roh ...</td>\n",
       "    </tr>\n",
       "    <tr>\n",
       "      <th>4</th>\n",
       "      <td>365: Repeat the Year</td>\n",
       "      <td>[thriller, mystery, drama, fantasy]</td>\n",
       "      <td>strong female lead, time travel, nice male lea...</td>\n",
       "      <td>Lee Joon Hyuk, Nam Ji Hyun, Kim Jee Soo, Lee S...</td>\n",
       "    </tr>\n",
       "  </tbody>\n",
       "</table>\n",
       "</div>"
      ],
      "text/plain": [
       "             drama_name                                Genres  \\\n",
       "0    100 Days My Prince  [historical, comedy, romance, drama]   \n",
       "1      12 Signs of Love               [comedy, romance, life]   \n",
       "2      12 Years Promise        [food, romance, drama, family]   \n",
       "3              18 Again       [romance, life, drama, fantasy]   \n",
       "4  365: Repeat the Year   [thriller, mystery, drama, fantasy]   \n",
       "\n",
       "                                                Tags  \\\n",
       "0  amnesia, hidden identity, marriage of convenie...   \n",
       "1                                writer female lead    \n",
       "2  unexpected pregnancy, miscarriage, teenage pre...   \n",
       "3  second chance, first love, father-son relation...   \n",
       "4  strong female lead, time travel, nice male lea...   \n",
       "\n",
       "                                              actors  \n",
       "0  Doh Kyung Soo, Nam Ji Hyun, Kim Seon Ho, Han S...  \n",
       "1  Ohn Joo Wan, Yoon Jin Seo, Lee Yong Woo, Bae G...  \n",
       "2  Lee So Yeon, Namkoong Min, Lee Tae Im, Park Ha...  \n",
       "3  Kim Ha Neul, Yoon Sang Hyun, Lee Do Hyun, Roh ...  \n",
       "4  Lee Joon Hyuk, Nam Ji Hyun, Kim Jee Soo, Lee S...  "
      ]
     },
     "execution_count": 11,
     "metadata": {},
     "output_type": "execute_result"
    }
   ],
   "source": [
    "df_dramas.head()"
   ]
  },
  {
   "cell_type": "code",
   "execution_count": 12,
   "id": "c0088ed4",
   "metadata": {},
   "outputs": [
    {
     "name": "stderr",
     "output_type": "stream",
     "text": [
      "/var/folders/9q/fxzjhxq16m361_m_hxykq5xc0000gn/T/ipykernel_87044/1275504181.py:1: SettingWithCopyWarning: \n",
      "A value is trying to be set on a copy of a slice from a DataFrame.\n",
      "Try using .loc[row_indexer,col_indexer] = value instead\n",
      "\n",
      "See the caveats in the documentation: https://pandas.pydata.org/pandas-docs/stable/user_guide/indexing.html#returning-a-view-versus-a-copy\n",
      "  df_dramas['Tags'] = df_dramas['Tags'].apply(string_to_list)\n"
     ]
    }
   ],
   "source": [
    "df_dramas['Tags'] = df_dramas['Tags'].apply(string_to_list)"
   ]
  },
  {
   "cell_type": "code",
   "execution_count": 13,
   "id": "4cf6e6fd",
   "metadata": {},
   "outputs": [
    {
     "name": "stderr",
     "output_type": "stream",
     "text": [
      "/var/folders/9q/fxzjhxq16m361_m_hxykq5xc0000gn/T/ipykernel_87044/3315753635.py:1: SettingWithCopyWarning: \n",
      "A value is trying to be set on a copy of a slice from a DataFrame.\n",
      "Try using .loc[row_indexer,col_indexer] = value instead\n",
      "\n",
      "See the caveats in the documentation: https://pandas.pydata.org/pandas-docs/stable/user_guide/indexing.html#returning-a-view-versus-a-copy\n",
      "  df_dramas['actors'] = df_dramas['actors'].apply(string_to_list)\n"
     ]
    }
   ],
   "source": [
    "df_dramas['actors'] = df_dramas['actors'].apply(string_to_list)"
   ]
  },
  {
   "cell_type": "code",
   "execution_count": 14,
   "id": "4906a38b",
   "metadata": {},
   "outputs": [
    {
     "name": "stderr",
     "output_type": "stream",
     "text": [
      "/var/folders/9q/fxzjhxq16m361_m_hxykq5xc0000gn/T/ipykernel_87044/3141177926.py:1: SettingWithCopyWarning: \n",
      "A value is trying to be set on a copy of a slice from a DataFrame.\n",
      "Try using .loc[row_indexer,col_indexer] = value instead\n",
      "\n",
      "See the caveats in the documentation: https://pandas.pydata.org/pandas-docs/stable/user_guide/indexing.html#returning-a-view-versus-a-copy\n",
      "  df_dramas['actors'] = df_dramas['actors'].apply(lambda x:[i.replace(\" \",\"\") for i in x])\n"
     ]
    }
   ],
   "source": [
    "df_dramas['actors'] = df_dramas['actors'].apply(lambda x:[i.replace(\" \",\"\") for i in x])"
   ]
  },
  {
   "cell_type": "code",
   "execution_count": 15,
   "id": "b677ca76",
   "metadata": {},
   "outputs": [
    {
     "data": {
      "text/html": [
       "<div>\n",
       "<style scoped>\n",
       "    .dataframe tbody tr th:only-of-type {\n",
       "        vertical-align: middle;\n",
       "    }\n",
       "\n",
       "    .dataframe tbody tr th {\n",
       "        vertical-align: top;\n",
       "    }\n",
       "\n",
       "    .dataframe thead th {\n",
       "        text-align: right;\n",
       "    }\n",
       "</style>\n",
       "<table border=\"1\" class=\"dataframe\">\n",
       "  <thead>\n",
       "    <tr style=\"text-align: right;\">\n",
       "      <th></th>\n",
       "      <th>drama_name</th>\n",
       "      <th>Genres</th>\n",
       "      <th>Tags</th>\n",
       "      <th>actors</th>\n",
       "    </tr>\n",
       "  </thead>\n",
       "  <tbody>\n",
       "    <tr>\n",
       "      <th>0</th>\n",
       "      <td>100 Days My Prince</td>\n",
       "      <td>[historical, comedy, romance, drama]</td>\n",
       "      <td>[amnesia, hidden identity, marriage of conveni...</td>\n",
       "      <td>[DohKyungSoo, NamJiHyun, KimSeonHo, HanSoHee, ...</td>\n",
       "    </tr>\n",
       "    <tr>\n",
       "      <th>1</th>\n",
       "      <td>12 Signs of Love</td>\n",
       "      <td>[comedy, romance, life]</td>\n",
       "      <td>[writer female lead]</td>\n",
       "      <td>[OhnJooWan, YoonJinSeo, LeeYongWoo, BaeGeuRin,...</td>\n",
       "    </tr>\n",
       "    <tr>\n",
       "      <th>2</th>\n",
       "      <td>12 Years Promise</td>\n",
       "      <td>[food, romance, drama, family]</td>\n",
       "      <td>[unexpected pregnancy, miscarriage, teenage pr...</td>\n",
       "      <td>[LeeSoYeon, NamkoongMin, LeeTaeIm, ParkHaeMi, ...</td>\n",
       "    </tr>\n",
       "    <tr>\n",
       "      <th>3</th>\n",
       "      <td>18 Again</td>\n",
       "      <td>[romance, life, drama, fantasy]</td>\n",
       "      <td>[second chance, first love, father-son relatio...</td>\n",
       "      <td>[KimHaNeul, YoonSangHyun, LeeDoHyun, RohJeongE...</td>\n",
       "    </tr>\n",
       "    <tr>\n",
       "      <th>4</th>\n",
       "      <td>365: Repeat the Year</td>\n",
       "      <td>[thriller, mystery, drama, fantasy]</td>\n",
       "      <td>[strong female lead, time travel, nice male le...</td>\n",
       "      <td>[LeeJoonHyuk, NamJiHyun, KimJeeSoo, LeeSungWoo...</td>\n",
       "    </tr>\n",
       "  </tbody>\n",
       "</table>\n",
       "</div>"
      ],
      "text/plain": [
       "             drama_name                                Genres  \\\n",
       "0    100 Days My Prince  [historical, comedy, romance, drama]   \n",
       "1      12 Signs of Love               [comedy, romance, life]   \n",
       "2      12 Years Promise        [food, romance, drama, family]   \n",
       "3              18 Again       [romance, life, drama, fantasy]   \n",
       "4  365: Repeat the Year   [thriller, mystery, drama, fantasy]   \n",
       "\n",
       "                                                Tags  \\\n",
       "0  [amnesia, hidden identity, marriage of conveni...   \n",
       "1                               [writer female lead]   \n",
       "2  [unexpected pregnancy, miscarriage, teenage pr...   \n",
       "3  [second chance, first love, father-son relatio...   \n",
       "4  [strong female lead, time travel, nice male le...   \n",
       "\n",
       "                                              actors  \n",
       "0  [DohKyungSoo, NamJiHyun, KimSeonHo, HanSoHee, ...  \n",
       "1  [OhnJooWan, YoonJinSeo, LeeYongWoo, BaeGeuRin,...  \n",
       "2  [LeeSoYeon, NamkoongMin, LeeTaeIm, ParkHaeMi, ...  \n",
       "3  [KimHaNeul, YoonSangHyun, LeeDoHyun, RohJeongE...  \n",
       "4  [LeeJoonHyuk, NamJiHyun, KimJeeSoo, LeeSungWoo...  "
      ]
     },
     "execution_count": 15,
     "metadata": {},
     "output_type": "execute_result"
    }
   ],
   "source": [
    "df_dramas.head()"
   ]
  },
  {
   "cell_type": "code",
   "execution_count": 16,
   "id": "5bf4389a",
   "metadata": {},
   "outputs": [
    {
     "name": "stderr",
     "output_type": "stream",
     "text": [
      "/var/folders/9q/fxzjhxq16m361_m_hxykq5xc0000gn/T/ipykernel_87044/3691294699.py:1: SettingWithCopyWarning: \n",
      "A value is trying to be set on a copy of a slice from a DataFrame.\n",
      "Try using .loc[row_indexer,col_indexer] = value instead\n",
      "\n",
      "See the caveats in the documentation: https://pandas.pydata.org/pandas-docs/stable/user_guide/indexing.html#returning-a-view-versus-a-copy\n",
      "  df_dramas['Tags'] = df_dramas['Tags'].apply(lambda x:[i.replace(\" \",\"\") for i in x])\n"
     ]
    }
   ],
   "source": [
    "df_dramas['Tags'] = df_dramas['Tags'].apply(lambda x:[i.replace(\" \",\"\") for i in x])"
   ]
  },
  {
   "cell_type": "code",
   "execution_count": 17,
   "id": "2bc33a31",
   "metadata": {},
   "outputs": [
    {
     "data": {
      "text/html": [
       "<div>\n",
       "<style scoped>\n",
       "    .dataframe tbody tr th:only-of-type {\n",
       "        vertical-align: middle;\n",
       "    }\n",
       "\n",
       "    .dataframe tbody tr th {\n",
       "        vertical-align: top;\n",
       "    }\n",
       "\n",
       "    .dataframe thead th {\n",
       "        text-align: right;\n",
       "    }\n",
       "</style>\n",
       "<table border=\"1\" class=\"dataframe\">\n",
       "  <thead>\n",
       "    <tr style=\"text-align: right;\">\n",
       "      <th></th>\n",
       "      <th>drama_name</th>\n",
       "      <th>Genres</th>\n",
       "      <th>Tags</th>\n",
       "      <th>actors</th>\n",
       "    </tr>\n",
       "  </thead>\n",
       "  <tbody>\n",
       "    <tr>\n",
       "      <th>0</th>\n",
       "      <td>100 Days My Prince</td>\n",
       "      <td>[historical, comedy, romance, drama]</td>\n",
       "      <td>[amnesia, hiddenidentity, marriageofconvenienc...</td>\n",
       "      <td>[DohKyungSoo, NamJiHyun, KimSeonHo, HanSoHee, ...</td>\n",
       "    </tr>\n",
       "    <tr>\n",
       "      <th>1</th>\n",
       "      <td>12 Signs of Love</td>\n",
       "      <td>[comedy, romance, life]</td>\n",
       "      <td>[writerfemalelead]</td>\n",
       "      <td>[OhnJooWan, YoonJinSeo, LeeYongWoo, BaeGeuRin,...</td>\n",
       "    </tr>\n",
       "    <tr>\n",
       "      <th>2</th>\n",
       "      <td>12 Years Promise</td>\n",
       "      <td>[food, romance, drama, family]</td>\n",
       "      <td>[unexpectedpregnancy, miscarriage, teenagepreg...</td>\n",
       "      <td>[LeeSoYeon, NamkoongMin, LeeTaeIm, ParkHaeMi, ...</td>\n",
       "    </tr>\n",
       "    <tr>\n",
       "      <th>3</th>\n",
       "      <td>18 Again</td>\n",
       "      <td>[romance, life, drama, fantasy]</td>\n",
       "      <td>[secondchance, firstlove, father-sonrelationsh...</td>\n",
       "      <td>[KimHaNeul, YoonSangHyun, LeeDoHyun, RohJeongE...</td>\n",
       "    </tr>\n",
       "    <tr>\n",
       "      <th>4</th>\n",
       "      <td>365: Repeat the Year</td>\n",
       "      <td>[thriller, mystery, drama, fantasy]</td>\n",
       "      <td>[strongfemalelead, timetravel, nicemalelead, s...</td>\n",
       "      <td>[LeeJoonHyuk, NamJiHyun, KimJeeSoo, LeeSungWoo...</td>\n",
       "    </tr>\n",
       "  </tbody>\n",
       "</table>\n",
       "</div>"
      ],
      "text/plain": [
       "             drama_name                                Genres  \\\n",
       "0    100 Days My Prince  [historical, comedy, romance, drama]   \n",
       "1      12 Signs of Love               [comedy, romance, life]   \n",
       "2      12 Years Promise        [food, romance, drama, family]   \n",
       "3              18 Again       [romance, life, drama, fantasy]   \n",
       "4  365: Repeat the Year   [thriller, mystery, drama, fantasy]   \n",
       "\n",
       "                                                Tags  \\\n",
       "0  [amnesia, hiddenidentity, marriageofconvenienc...   \n",
       "1                                 [writerfemalelead]   \n",
       "2  [unexpectedpregnancy, miscarriage, teenagepreg...   \n",
       "3  [secondchance, firstlove, father-sonrelationsh...   \n",
       "4  [strongfemalelead, timetravel, nicemalelead, s...   \n",
       "\n",
       "                                              actors  \n",
       "0  [DohKyungSoo, NamJiHyun, KimSeonHo, HanSoHee, ...  \n",
       "1  [OhnJooWan, YoonJinSeo, LeeYongWoo, BaeGeuRin,...  \n",
       "2  [LeeSoYeon, NamkoongMin, LeeTaeIm, ParkHaeMi, ...  \n",
       "3  [KimHaNeul, YoonSangHyun, LeeDoHyun, RohJeongE...  \n",
       "4  [LeeJoonHyuk, NamJiHyun, KimJeeSoo, LeeSungWoo...  "
      ]
     },
     "execution_count": 17,
     "metadata": {},
     "output_type": "execute_result"
    }
   ],
   "source": [
    "df_dramas.head()"
   ]
  },
  {
   "cell_type": "code",
   "execution_count": 18,
   "id": "5ffd4b20",
   "metadata": {},
   "outputs": [
    {
     "name": "stderr",
     "output_type": "stream",
     "text": [
      "/var/folders/9q/fxzjhxq16m361_m_hxykq5xc0000gn/T/ipykernel_87044/2849508922.py:1: SettingWithCopyWarning: \n",
      "A value is trying to be set on a copy of a slice from a DataFrame.\n",
      "Try using .loc[row_indexer,col_indexer] = value instead\n",
      "\n",
      "See the caveats in the documentation: https://pandas.pydata.org/pandas-docs/stable/user_guide/indexing.html#returning-a-view-versus-a-copy\n",
      "  df_dramas['key_words'] = df_dramas['Genres'] + df_dramas['Tags'] + df_dramas['actors']\n"
     ]
    }
   ],
   "source": [
    "df_dramas['key_words'] = df_dramas['Genres'] + df_dramas['Tags'] + df_dramas['actors']"
   ]
  },
  {
   "cell_type": "code",
   "execution_count": 19,
   "id": "aab149f0",
   "metadata": {},
   "outputs": [
    {
     "data": {
      "text/html": [
       "<div>\n",
       "<style scoped>\n",
       "    .dataframe tbody tr th:only-of-type {\n",
       "        vertical-align: middle;\n",
       "    }\n",
       "\n",
       "    .dataframe tbody tr th {\n",
       "        vertical-align: top;\n",
       "    }\n",
       "\n",
       "    .dataframe thead th {\n",
       "        text-align: right;\n",
       "    }\n",
       "</style>\n",
       "<table border=\"1\" class=\"dataframe\">\n",
       "  <thead>\n",
       "    <tr style=\"text-align: right;\">\n",
       "      <th></th>\n",
       "      <th>drama_name</th>\n",
       "      <th>Genres</th>\n",
       "      <th>Tags</th>\n",
       "      <th>actors</th>\n",
       "      <th>key_words</th>\n",
       "    </tr>\n",
       "  </thead>\n",
       "  <tbody>\n",
       "    <tr>\n",
       "      <th>0</th>\n",
       "      <td>100 Days My Prince</td>\n",
       "      <td>[historical, comedy, romance, drama]</td>\n",
       "      <td>[amnesia, hiddenidentity, marriageofconvenienc...</td>\n",
       "      <td>[DohKyungSoo, NamJiHyun, KimSeonHo, HanSoHee, ...</td>\n",
       "      <td>[historical, comedy, romance, drama, amnesia, ...</td>\n",
       "    </tr>\n",
       "    <tr>\n",
       "      <th>1</th>\n",
       "      <td>12 Signs of Love</td>\n",
       "      <td>[comedy, romance, life]</td>\n",
       "      <td>[writerfemalelead]</td>\n",
       "      <td>[OhnJooWan, YoonJinSeo, LeeYongWoo, BaeGeuRin,...</td>\n",
       "      <td>[comedy, romance, life, writerfemalelead, OhnJ...</td>\n",
       "    </tr>\n",
       "    <tr>\n",
       "      <th>2</th>\n",
       "      <td>12 Years Promise</td>\n",
       "      <td>[food, romance, drama, family]</td>\n",
       "      <td>[unexpectedpregnancy, miscarriage, teenagepreg...</td>\n",
       "      <td>[LeeSoYeon, NamkoongMin, LeeTaeIm, ParkHaeMi, ...</td>\n",
       "      <td>[food, romance, drama, family, unexpectedpregn...</td>\n",
       "    </tr>\n",
       "    <tr>\n",
       "      <th>3</th>\n",
       "      <td>18 Again</td>\n",
       "      <td>[romance, life, drama, fantasy]</td>\n",
       "      <td>[secondchance, firstlove, father-sonrelationsh...</td>\n",
       "      <td>[KimHaNeul, YoonSangHyun, LeeDoHyun, RohJeongE...</td>\n",
       "      <td>[romance, life, drama, fantasy, secondchance, ...</td>\n",
       "    </tr>\n",
       "    <tr>\n",
       "      <th>4</th>\n",
       "      <td>365: Repeat the Year</td>\n",
       "      <td>[thriller, mystery, drama, fantasy]</td>\n",
       "      <td>[strongfemalelead, timetravel, nicemalelead, s...</td>\n",
       "      <td>[LeeJoonHyuk, NamJiHyun, KimJeeSoo, LeeSungWoo...</td>\n",
       "      <td>[thriller, mystery, drama, fantasy, strongfema...</td>\n",
       "    </tr>\n",
       "  </tbody>\n",
       "</table>\n",
       "</div>"
      ],
      "text/plain": [
       "             drama_name                                Genres  \\\n",
       "0    100 Days My Prince  [historical, comedy, romance, drama]   \n",
       "1      12 Signs of Love               [comedy, romance, life]   \n",
       "2      12 Years Promise        [food, romance, drama, family]   \n",
       "3              18 Again       [romance, life, drama, fantasy]   \n",
       "4  365: Repeat the Year   [thriller, mystery, drama, fantasy]   \n",
       "\n",
       "                                                Tags  \\\n",
       "0  [amnesia, hiddenidentity, marriageofconvenienc...   \n",
       "1                                 [writerfemalelead]   \n",
       "2  [unexpectedpregnancy, miscarriage, teenagepreg...   \n",
       "3  [secondchance, firstlove, father-sonrelationsh...   \n",
       "4  [strongfemalelead, timetravel, nicemalelead, s...   \n",
       "\n",
       "                                              actors  \\\n",
       "0  [DohKyungSoo, NamJiHyun, KimSeonHo, HanSoHee, ...   \n",
       "1  [OhnJooWan, YoonJinSeo, LeeYongWoo, BaeGeuRin,...   \n",
       "2  [LeeSoYeon, NamkoongMin, LeeTaeIm, ParkHaeMi, ...   \n",
       "3  [KimHaNeul, YoonSangHyun, LeeDoHyun, RohJeongE...   \n",
       "4  [LeeJoonHyuk, NamJiHyun, KimJeeSoo, LeeSungWoo...   \n",
       "\n",
       "                                           key_words  \n",
       "0  [historical, comedy, romance, drama, amnesia, ...  \n",
       "1  [comedy, romance, life, writerfemalelead, OhnJ...  \n",
       "2  [food, romance, drama, family, unexpectedpregn...  \n",
       "3  [romance, life, drama, fantasy, secondchance, ...  \n",
       "4  [thriller, mystery, drama, fantasy, strongfema...  "
      ]
     },
     "execution_count": 19,
     "metadata": {},
     "output_type": "execute_result"
    }
   ],
   "source": [
    "df_dramas.head()"
   ]
  },
  {
   "cell_type": "code",
   "execution_count": 20,
   "id": "32dde5d9",
   "metadata": {},
   "outputs": [],
   "source": [
    "new_df_dramas = df_dramas[['drama_name','key_words']]"
   ]
  },
  {
   "cell_type": "code",
   "execution_count": 21,
   "id": "5f2ff0a9",
   "metadata": {},
   "outputs": [
    {
     "data": {
      "text/html": [
       "<div>\n",
       "<style scoped>\n",
       "    .dataframe tbody tr th:only-of-type {\n",
       "        vertical-align: middle;\n",
       "    }\n",
       "\n",
       "    .dataframe tbody tr th {\n",
       "        vertical-align: top;\n",
       "    }\n",
       "\n",
       "    .dataframe thead th {\n",
       "        text-align: right;\n",
       "    }\n",
       "</style>\n",
       "<table border=\"1\" class=\"dataframe\">\n",
       "  <thead>\n",
       "    <tr style=\"text-align: right;\">\n",
       "      <th></th>\n",
       "      <th>drama_name</th>\n",
       "      <th>key_words</th>\n",
       "    </tr>\n",
       "  </thead>\n",
       "  <tbody>\n",
       "    <tr>\n",
       "      <th>0</th>\n",
       "      <td>100 Days My Prince</td>\n",
       "      <td>[historical, comedy, romance, drama, amnesia, ...</td>\n",
       "    </tr>\n",
       "    <tr>\n",
       "      <th>1</th>\n",
       "      <td>12 Signs of Love</td>\n",
       "      <td>[comedy, romance, life, writerfemalelead, OhnJ...</td>\n",
       "    </tr>\n",
       "    <tr>\n",
       "      <th>2</th>\n",
       "      <td>12 Years Promise</td>\n",
       "      <td>[food, romance, drama, family, unexpectedpregn...</td>\n",
       "    </tr>\n",
       "    <tr>\n",
       "      <th>3</th>\n",
       "      <td>18 Again</td>\n",
       "      <td>[romance, life, drama, fantasy, secondchance, ...</td>\n",
       "    </tr>\n",
       "    <tr>\n",
       "      <th>4</th>\n",
       "      <td>365: Repeat the Year</td>\n",
       "      <td>[thriller, mystery, drama, fantasy, strongfema...</td>\n",
       "    </tr>\n",
       "  </tbody>\n",
       "</table>\n",
       "</div>"
      ],
      "text/plain": [
       "             drama_name                                          key_words\n",
       "0    100 Days My Prince  [historical, comedy, romance, drama, amnesia, ...\n",
       "1      12 Signs of Love  [comedy, romance, life, writerfemalelead, OhnJ...\n",
       "2      12 Years Promise  [food, romance, drama, family, unexpectedpregn...\n",
       "3              18 Again  [romance, life, drama, fantasy, secondchance, ...\n",
       "4  365: Repeat the Year  [thriller, mystery, drama, fantasy, strongfema..."
      ]
     },
     "execution_count": 21,
     "metadata": {},
     "output_type": "execute_result"
    }
   ],
   "source": [
    "new_df_dramas.head()"
   ]
  },
  {
   "cell_type": "code",
   "execution_count": 23,
   "id": "7d26114b",
   "metadata": {
    "scrolled": true
   },
   "outputs": [
    {
     "name": "stderr",
     "output_type": "stream",
     "text": [
      "/var/folders/9q/fxzjhxq16m361_m_hxykq5xc0000gn/T/ipykernel_87044/78026865.py:1: SettingWithCopyWarning: \n",
      "A value is trying to be set on a copy of a slice from a DataFrame.\n",
      "Try using .loc[row_indexer,col_indexer] = value instead\n",
      "\n",
      "See the caveats in the documentation: https://pandas.pydata.org/pandas-docs/stable/user_guide/indexing.html#returning-a-view-versus-a-copy\n",
      "  new_df_dramas['key_words'] = new_df_dramas['key_words'].apply(lambda x:\" \".join(x))\n"
     ]
    }
   ],
   "source": [
    "new_df_dramas['key_words'] = new_df_dramas['key_words'].apply(lambda x:\" \".join(x))"
   ]
  },
  {
   "cell_type": "code",
   "execution_count": 24,
   "id": "85486cef",
   "metadata": {},
   "outputs": [
    {
     "name": "stderr",
     "output_type": "stream",
     "text": [
      "/var/folders/9q/fxzjhxq16m361_m_hxykq5xc0000gn/T/ipykernel_87044/525359681.py:1: SettingWithCopyWarning: \n",
      "A value is trying to be set on a copy of a slice from a DataFrame.\n",
      "Try using .loc[row_indexer,col_indexer] = value instead\n",
      "\n",
      "See the caveats in the documentation: https://pandas.pydata.org/pandas-docs/stable/user_guide/indexing.html#returning-a-view-versus-a-copy\n",
      "  new_df_dramas['key_words'] = new_df_dramas['key_words'].apply(lambda x:x.lower())\n"
     ]
    }
   ],
   "source": [
    "new_df_dramas['key_words'] = new_df_dramas['key_words'].apply(lambda x:x.lower())"
   ]
  },
  {
   "cell_type": "code",
   "execution_count": 26,
   "id": "6e1c97bf",
   "metadata": {},
   "outputs": [],
   "source": [
    "from sklearn.feature_extraction.text import CountVectorizer\n",
    "cv = CountVectorizer(max_features=3000,stop_words='english')"
   ]
  },
  {
   "cell_type": "code",
   "execution_count": 27,
   "id": "e6392b3b",
   "metadata": {},
   "outputs": [],
   "source": [
    "vectors = cv.fit_transform(new_df_dramas['key_words']).toarray()"
   ]
  },
  {
   "cell_type": "code",
   "execution_count": 28,
   "id": "f45adce5",
   "metadata": {},
   "outputs": [
    {
     "data": {
      "text/html": [
       "<div>\n",
       "<style scoped>\n",
       "    .dataframe tbody tr th:only-of-type {\n",
       "        vertical-align: middle;\n",
       "    }\n",
       "\n",
       "    .dataframe tbody tr th {\n",
       "        vertical-align: top;\n",
       "    }\n",
       "\n",
       "    .dataframe thead th {\n",
       "        text-align: right;\n",
       "    }\n",
       "</style>\n",
       "<table border=\"1\" class=\"dataframe\">\n",
       "  <thead>\n",
       "    <tr style=\"text-align: right;\">\n",
       "      <th></th>\n",
       "      <th>drama_name</th>\n",
       "      <th>key_words</th>\n",
       "    </tr>\n",
       "  </thead>\n",
       "  <tbody>\n",
       "    <tr>\n",
       "      <th>0</th>\n",
       "      <td>100 Days My Prince</td>\n",
       "      <td>historical comedy romance drama amnesia hidden...</td>\n",
       "    </tr>\n",
       "    <tr>\n",
       "      <th>1</th>\n",
       "      <td>12 Signs of Love</td>\n",
       "      <td>comedy romance life writerfemalelead ohnjoowan...</td>\n",
       "    </tr>\n",
       "    <tr>\n",
       "      <th>2</th>\n",
       "      <td>12 Years Promise</td>\n",
       "      <td>food romance drama family unexpectedpregnancy ...</td>\n",
       "    </tr>\n",
       "    <tr>\n",
       "      <th>3</th>\n",
       "      <td>18 Again</td>\n",
       "      <td>romance life drama fantasy secondchance firstl...</td>\n",
       "    </tr>\n",
       "    <tr>\n",
       "      <th>4</th>\n",
       "      <td>365: Repeat the Year</td>\n",
       "      <td>thriller mystery drama fantasy strongfemalelea...</td>\n",
       "    </tr>\n",
       "  </tbody>\n",
       "</table>\n",
       "</div>"
      ],
      "text/plain": [
       "             drama_name                                          key_words\n",
       "0    100 Days My Prince  historical comedy romance drama amnesia hidden...\n",
       "1      12 Signs of Love  comedy romance life writerfemalelead ohnjoowan...\n",
       "2      12 Years Promise  food romance drama family unexpectedpregnancy ...\n",
       "3              18 Again  romance life drama fantasy secondchance firstl...\n",
       "4  365: Repeat the Year  thriller mystery drama fantasy strongfemalelea..."
      ]
     },
     "execution_count": 28,
     "metadata": {},
     "output_type": "execute_result"
    }
   ],
   "source": [
    "new_df_dramas.head()"
   ]
  },
  {
   "cell_type": "code",
   "execution_count": 29,
   "id": "1d5b3163",
   "metadata": {},
   "outputs": [],
   "source": [
    "import nltk"
   ]
  },
  {
   "cell_type": "code",
   "execution_count": 30,
   "id": "9ca79512",
   "metadata": {},
   "outputs": [],
   "source": [
    "from nltk.stem.porter import PorterStemmer\n",
    "ps = PorterStemmer()"
   ]
  },
  {
   "cell_type": "code",
   "execution_count": 32,
   "id": "086e7194",
   "metadata": {},
   "outputs": [],
   "source": [
    "def stem(text):\n",
    "    y = []\n",
    "    for i in  text.split():\n",
    "        y.append(ps.stem(i))\n",
    "    return \" \".join(y)"
   ]
  },
  {
   "cell_type": "code",
   "execution_count": 33,
   "id": "b0d5c9a9",
   "metadata": {},
   "outputs": [
    {
     "name": "stderr",
     "output_type": "stream",
     "text": [
      "/var/folders/9q/fxzjhxq16m361_m_hxykq5xc0000gn/T/ipykernel_87044/400373923.py:1: SettingWithCopyWarning: \n",
      "A value is trying to be set on a copy of a slice from a DataFrame.\n",
      "Try using .loc[row_indexer,col_indexer] = value instead\n",
      "\n",
      "See the caveats in the documentation: https://pandas.pydata.org/pandas-docs/stable/user_guide/indexing.html#returning-a-view-versus-a-copy\n",
      "  new_df_dramas['key_words'] = new_df_dramas['key_words'].apply(stem)\n"
     ]
    }
   ],
   "source": [
    "new_df_dramas['key_words'] = new_df_dramas['key_words'].apply(stem)"
   ]
  },
  {
   "cell_type": "code",
   "execution_count": 34,
   "id": "3ef99e00",
   "metadata": {},
   "outputs": [
    {
     "data": {
      "text/html": [
       "<div>\n",
       "<style scoped>\n",
       "    .dataframe tbody tr th:only-of-type {\n",
       "        vertical-align: middle;\n",
       "    }\n",
       "\n",
       "    .dataframe tbody tr th {\n",
       "        vertical-align: top;\n",
       "    }\n",
       "\n",
       "    .dataframe thead th {\n",
       "        text-align: right;\n",
       "    }\n",
       "</style>\n",
       "<table border=\"1\" class=\"dataframe\">\n",
       "  <thead>\n",
       "    <tr style=\"text-align: right;\">\n",
       "      <th></th>\n",
       "      <th>drama_name</th>\n",
       "      <th>key_words</th>\n",
       "    </tr>\n",
       "  </thead>\n",
       "  <tbody>\n",
       "    <tr>\n",
       "      <th>0</th>\n",
       "      <td>100 Days My Prince</td>\n",
       "      <td>histor comedi romanc drama amnesia hiddenident...</td>\n",
       "    </tr>\n",
       "    <tr>\n",
       "      <th>1</th>\n",
       "      <td>12 Signs of Love</td>\n",
       "      <td>comedi romanc life writerfemalelead ohnjoowan ...</td>\n",
       "    </tr>\n",
       "    <tr>\n",
       "      <th>2</th>\n",
       "      <td>12 Years Promise</td>\n",
       "      <td>food romanc drama famili unexpectedpregn misca...</td>\n",
       "    </tr>\n",
       "    <tr>\n",
       "      <th>3</th>\n",
       "      <td>18 Again</td>\n",
       "      <td>romanc life drama fantasi secondch firstlov fa...</td>\n",
       "    </tr>\n",
       "    <tr>\n",
       "      <th>4</th>\n",
       "      <td>365: Repeat the Year</td>\n",
       "      <td>thriller mysteri drama fantasi strongfemalelea...</td>\n",
       "    </tr>\n",
       "  </tbody>\n",
       "</table>\n",
       "</div>"
      ],
      "text/plain": [
       "             drama_name                                          key_words\n",
       "0    100 Days My Prince  histor comedi romanc drama amnesia hiddenident...\n",
       "1      12 Signs of Love  comedi romanc life writerfemalelead ohnjoowan ...\n",
       "2      12 Years Promise  food romanc drama famili unexpectedpregn misca...\n",
       "3              18 Again  romanc life drama fantasi secondch firstlov fa...\n",
       "4  365: Repeat the Year  thriller mysteri drama fantasi strongfemalelea..."
      ]
     },
     "execution_count": 34,
     "metadata": {},
     "output_type": "execute_result"
    }
   ],
   "source": [
    "new_df_dramas.head()"
   ]
  },
  {
   "cell_type": "code",
   "execution_count": 35,
   "id": "50eb4271",
   "metadata": {},
   "outputs": [],
   "source": [
    "from sklearn.metrics.pairwise import cosine_similarity"
   ]
  },
  {
   "cell_type": "code",
   "execution_count": 36,
   "id": "b63fbc18",
   "metadata": {},
   "outputs": [],
   "source": [
    "similarity = cosine_similarity(vectors)"
   ]
  },
  {
   "cell_type": "code",
   "execution_count": 59,
   "id": "629e9119",
   "metadata": {},
   "outputs": [],
   "source": [
    "def recommend(movie):\n",
    "    movie_index = new_df_dramas[new_df_dramas['drama_name'] == movie].index[0]\n",
    "    print(movie_index)\n",
    "    distances = similarity[movie_index]\n",
    "    movies_list = sorted(list(enumerate(distances)),reverse=True,key=lambda x:x[1])[1:6]\n",
    "    \n",
    "    for i in movies_list:\n",
    "        print(new_df_dramas.iloc[i[0]].drama_name)"
   ]
  },
  {
   "cell_type": "code",
   "execution_count": null,
   "id": "aec89314",
   "metadata": {},
   "outputs": [],
   "source": []
  }
 ],
 "metadata": {
  "kernelspec": {
   "display_name": "Python 3 (ipykernel)",
   "language": "python",
   "name": "python3"
  },
  "language_info": {
   "codemirror_mode": {
    "name": "ipython",
    "version": 3
   },
   "file_extension": ".py",
   "mimetype": "text/x-python",
   "name": "python",
   "nbconvert_exporter": "python",
   "pygments_lexer": "ipython3",
   "version": "3.11.4"
  }
 },
 "nbformat": 4,
 "nbformat_minor": 5
}
